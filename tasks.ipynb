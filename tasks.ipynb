{
 "cells": [
  {
   "cell_type": "markdown",
   "metadata": {},
   "source": [
    "## Fundamentals of Data Analytics Tasks \n",
    "\n",
    "***\n",
    "\n",
    "Author: Emma Dunleavy\n",
    "\n",
    "Module Fundamentals of Data Analytics Winter 2023/24\n",
    "\n",
    "Lecturer: Ian McLoughlin\n",
    "***"
   ]
  },
  {
   "cell_type": "markdown",
   "metadata": {},
   "source": [
    "<div class=\"alert alert-block alert-info\">\n",
    "<b>Note:</b> References for all tasks are listed at the bottom of the Notebook.\n",
    "</div>"
   ]
  },
  {
   "cell_type": "code",
   "execution_count": null,
   "metadata": {},
   "outputs": [],
   "source": [
    "# All libraries required for this notebook will be contained in this cell.\n",
    "\n",
    "import pandas as pd\n",
    "import matplotlib.pyplot as plt"
   ]
  },
  {
   "cell_type": "markdown",
   "metadata": {},
   "source": [
    "### Task 1 - The Collatz Conjecture"
   ]
  },
  {
   "cell_type": "markdown",
   "metadata": {},
   "source": [
    "Question: The Collatz conjecture is a famous unsolved problem in mathematics. The problem is to prove that if you start with any positive integer $x$ and repeatedly apply the function $f(x)$ below, you always get stuck in the repeating sequence 1, 4, 2, 1, 4, 2, . . .\n"
   ]
  },
  {
   "cell_type": "markdown",
   "metadata": {},
   "source": [
    "$$ \n",
    "\\\\ f(x) = \n",
    "\\begin{cases} \n",
    "x ÷ 2&\\text{if $x$ is even}\\\\\n",
    "3x + 1&\\text{if $x$ is odd}\\\\\n",
    "\\end{cases}\n",
    "$$\n",
    "\n",
    "          \n",
    "\n"
   ]
  },
  {
   "cell_type": "markdown",
   "metadata": {},
   "source": [
    "For example, starting with the value 10, which is an even number,\n",
    "we divide it by 2 to get 5. Then 5 is an odd number so, we multiply by 3 and add 1 to get 16. Then we repeatedly divide by 2 to get 8, 4, 2, 1. Once we are at 1, we go back to 4 and get stuck in the repeating sequence 4, 2, 1 as we suspected."
   ]
  },
  {
   "cell_type": "markdown",
   "metadata": {},
   "source": [
    "The task is to verify, using Python, that the conjecture is true for the first 10,000 positive integers.\n",
    "***"
   ]
  },
  {
   "cell_type": "markdown",
   "metadata": {},
   "source": [
    "### Answer\n",
    "\n",
    "There are a number of different ways to solve this problem, though it is not possible to simply create a list using range or list opperand getting the following error : \"TypeError: unsupported operand type(s) for %: 'range' and 'int'\". "
   ]
  },
  {
   "cell_type": "markdown",
   "metadata": {},
   "source": [
    "Method 1 - Ask user to input a positive integer, *<u>or</u>* randomly selecting a number between 1 and 10000. Then using 'while', 'if' and 'else' functions."
   ]
  },
  {
   "cell_type": "code",
   "execution_count": 25,
   "metadata": {},
   "outputs": [
    {
     "name": "stdout",
     "output_type": "stream",
     "text": [
      "9 28 14 7 22 11 34 17 52 26 13 40 20 10 5 16 8 4 2 1 "
     ]
    }
   ],
   "source": [
    "#User inputting a positive integer \n",
    "pos_int = int(input(\"Enter a positive integer:\"))\n",
    "pos_ints=[pos_int] #pos_int will create a list\n",
    "\n",
    "while pos_int >1:                         # while inputted positive integer is > 1\n",
    "    if pos_int % 2 == 0:                  # if it is an even number\n",
    "        pos_int = pos_int/2               # it is divided by 2\n",
    "        pos_ints.append(int(pos_int)) \n",
    "\n",
    "    else:\n",
    "        pos_int % 2 !=0                  # or else if it is an odd number\n",
    "        pos_int = (pos_int * 3) + 1      # multiply by 3 and add 1\n",
    "        pos_ints.append(int(pos_int))\n",
    "\n",
    "for i in pos_ints:\n",
    "    print(i, end = ' ')                   # print the list of numbers generated without commas or brackets\n"
   ]
  },
  {
   "cell_type": "markdown",
   "metadata": {},
   "source": [
    "Randomly selecting a number between 1 and 10000."
   ]
  },
  {
   "cell_type": "code",
   "execution_count": 26,
   "metadata": {},
   "outputs": [
    {
     "name": "stdout",
     "output_type": "stream",
     "text": [
      "4260\n",
      "[4260, 2130, 1065, 3196, 1598, 799, 2398, 1199, 3598, 1799, 5398, 2699, 8098, 4049, 12148, 6074, 3037, 9112, 4556, 2278, 1139, 3418, 1709, 5128, 2564, 1282, 641, 1924, 962, 481, 1444, 722, 361, 1084, 542, 271, 814, 407, 1222, 611, 1834, 917, 2752, 1376, 688, 344, 172, 86, 43, 130, 65, 196, 98, 49, 148, 74, 37, 112, 56, 28, 14, 7, 22, 11, 34, 17, 52, 26, 13, 40, 20, 10, 5, 16, 8, 4, 2, 1] "
     ]
    }
   ],
   "source": [
    "import random\n",
    "\n",
    "pos_int = random.randint(1, 10001)\n",
    "print(pos_int)\n",
    "\n",
    "pos_ints=[pos_int]\n",
    "\n",
    "#for i in pos_int:\n",
    "while pos_int >1: \n",
    "    if pos_int % 2 == 0:                  # if it is an even number\n",
    "        pos_int = pos_int/2               # it is divided by 2\n",
    "        pos_ints.append(int(pos_int))    \n",
    "    else:\n",
    "        pos_int % 2 !=0                  # or else if it is an odd number\n",
    "        pos_int = (pos_int * 3) + 1      # multiply by 3 and add 1\n",
    "        pos_ints.append(int(pos_int))\n",
    "\n",
    "\n",
    "print(pos_ints, end = ' ')                   # print the list of numbers generated without commas or brackets"
   ]
  },
  {
   "cell_type": "markdown",
   "metadata": {},
   "source": [
    "Method 2 - defining the number before running the code."
   ]
  },
  {
   "cell_type": "code",
   "execution_count": 27,
   "metadata": {},
   "outputs": [
    {
     "name": "stdout",
     "output_type": "stream",
     "text": [
      "[6450, 3225, 9676, 4838, 2419, 7258, 3629, 10888, 5444, 2722, 1361, 4084, 2042, 1021, 3064, 1532, 766, 383, 1150, 575, 1726, 863, 2590, 1295, 3886, 1943, 5830, 2915, 8746, 4373, 13120, 6560, 3280, 1640, 820, 410, 205, 616, 308, 154, 77, 232, 116, 58, 29, 88, 44, 22, 11, 34, 17, 52, 26, 13, 40, 20, 10, 5, 16, 8, 4, 2, 1]\n"
     ]
    }
   ],
   "source": [
    "def collatz(n):\n",
    "    l = []\n",
    "    l.append(n)\n",
    "    while n != 1:\n",
    "        if n % 2 == 0:\n",
    "            n = n // 2\n",
    "            l.append(n)\n",
    "        else:\n",
    "            n = (3*n) + 1\n",
    "            l.append(n)\n",
    "    return l\n",
    "print (collatz(6450))"
   ]
  },
  {
   "cell_type": "markdown",
   "metadata": {},
   "source": [
    "$\\color{orange}{\\text{Example using method 1:}}$ \n",
    "\n",
    "Number *<u>randomly</u>* selected : 6450\n",
    "\n",
    "Output\n",
    "\n",
    "[6450, 3225, 9676, 4838, 2419, 7258, 3629, 10888, 5444, 2722, 1361, 4084, 2042, 1021, 3064, 1532, 766, 383, 1150, 575, 1726, 863, 2590, 1295, 3886, 1943, 5830, 2915, 8746, 4373, 13120, 6560, 3280, 1640, 820, 410, 205, 616, 308, 154, 77, 232, 116, 58, 29, 88, 44, 22, 11, 34, 17, 52, 26, 13, 40, 20, 10, 5, 16, 8, 4, 2, 1]"
   ]
  },
  {
   "cell_type": "markdown",
   "metadata": {},
   "source": [
    "$\\color{orange}{\\text{Example using method 2:}}$"
   ]
  },
  {
   "cell_type": "markdown",
   "metadata": {},
   "source": [
    "Number selected : 6450\n",
    "\n",
    "Output\n",
    "\n",
    "[6450, 3225, 9676, 4838, 2419, 7258, 3629, 10888, 5444, 2722, 1361, 4084, 2042, 1021, 3064, 1532, 766, 383, 1150, 575, 1726, 863, 2590, 1295, 3886, 1943, 5830, 2915, 8746, 4373, 13120, 6560, 3280, 1640, 820, 410, 205, 616, 308, 154, 77, 232, 116, 58, 29, 88, 44, 22, 11, 34, 17, 52, 26, 13, 40, 20, 10, 5, 16, 8, 4, 2, 1]\n"
   ]
  },
  {
   "cell_type": "markdown",
   "metadata": {},
   "source": [
    "#### Task 1 - Conclusion\n",
    "\n",
    "Although all iterartions were not tested in this notebook the conjecture is most probably true for the first 10,000 positive integers. Using the above methods no example of counter examples were observed and this problem has been widely studied for over 80 years and tested and confirmed as true up to 2 100000 - 1 [3]."
   ]
  },
  {
   "cell_type": "markdown",
   "metadata": {},
   "source": [
    "***\n",
    "### Task 2 - Variables of the \"Penguin Data Set\" "
   ]
  },
  {
   "cell_type": "markdown",
   "metadata": {},
   "source": [
    "Question: Give an overview of the famous penguins data set, explaining the types of variables it contains. Suggest the types of variables that should be used to model them in Python, explaining your rationale.\n"
   ]
  },
  {
   "cell_type": "markdown",
   "metadata": {},
   "source": [
    "### Answer\n",
    "\n",
    "The Penguin Data set contains measurements of three different penguin species, Adelie, Gentoo and Chinstrap. In order to discuss this data set it must first be read in to the notebook."
   ]
  },
  {
   "cell_type": "code",
   "execution_count": 29,
   "metadata": {},
   "outputs": [
    {
     "data": {
      "text/html": [
       "<div>\n",
       "<style scoped>\n",
       "    .dataframe tbody tr th:only-of-type {\n",
       "        vertical-align: middle;\n",
       "    }\n",
       "\n",
       "    .dataframe tbody tr th {\n",
       "        vertical-align: top;\n",
       "    }\n",
       "\n",
       "    .dataframe thead th {\n",
       "        text-align: right;\n",
       "    }\n",
       "</style>\n",
       "<table border=\"1\" class=\"dataframe\">\n",
       "  <thead>\n",
       "    <tr style=\"text-align: right;\">\n",
       "      <th></th>\n",
       "      <th>bill_length_mm</th>\n",
       "      <th>bill_depth_mm</th>\n",
       "      <th>flipper_length_mm</th>\n",
       "      <th>body_mass_g</th>\n",
       "    </tr>\n",
       "  </thead>\n",
       "  <tbody>\n",
       "    <tr>\n",
       "      <th>count</th>\n",
       "      <td>342.000000</td>\n",
       "      <td>342.000000</td>\n",
       "      <td>342.000000</td>\n",
       "      <td>342.000000</td>\n",
       "    </tr>\n",
       "    <tr>\n",
       "      <th>mean</th>\n",
       "      <td>43.921930</td>\n",
       "      <td>17.151170</td>\n",
       "      <td>200.915205</td>\n",
       "      <td>4201.754386</td>\n",
       "    </tr>\n",
       "    <tr>\n",
       "      <th>std</th>\n",
       "      <td>5.459584</td>\n",
       "      <td>1.974793</td>\n",
       "      <td>14.061714</td>\n",
       "      <td>801.954536</td>\n",
       "    </tr>\n",
       "    <tr>\n",
       "      <th>min</th>\n",
       "      <td>32.100000</td>\n",
       "      <td>13.100000</td>\n",
       "      <td>172.000000</td>\n",
       "      <td>2700.000000</td>\n",
       "    </tr>\n",
       "    <tr>\n",
       "      <th>25%</th>\n",
       "      <td>39.225000</td>\n",
       "      <td>15.600000</td>\n",
       "      <td>190.000000</td>\n",
       "      <td>3550.000000</td>\n",
       "    </tr>\n",
       "    <tr>\n",
       "      <th>50%</th>\n",
       "      <td>44.450000</td>\n",
       "      <td>17.300000</td>\n",
       "      <td>197.000000</td>\n",
       "      <td>4050.000000</td>\n",
       "    </tr>\n",
       "    <tr>\n",
       "      <th>75%</th>\n",
       "      <td>48.500000</td>\n",
       "      <td>18.700000</td>\n",
       "      <td>213.000000</td>\n",
       "      <td>4750.000000</td>\n",
       "    </tr>\n",
       "    <tr>\n",
       "      <th>max</th>\n",
       "      <td>59.600000</td>\n",
       "      <td>21.500000</td>\n",
       "      <td>231.000000</td>\n",
       "      <td>6300.000000</td>\n",
       "    </tr>\n",
       "  </tbody>\n",
       "</table>\n",
       "</div>"
      ],
      "text/plain": [
       "       bill_length_mm  bill_depth_mm  flipper_length_mm  body_mass_g\n",
       "count      342.000000     342.000000         342.000000   342.000000\n",
       "mean        43.921930      17.151170         200.915205  4201.754386\n",
       "std          5.459584       1.974793          14.061714   801.954536\n",
       "min         32.100000      13.100000         172.000000  2700.000000\n",
       "25%         39.225000      15.600000         190.000000  3550.000000\n",
       "50%         44.450000      17.300000         197.000000  4050.000000\n",
       "75%         48.500000      18.700000         213.000000  4750.000000\n",
       "max         59.600000      21.500000         231.000000  6300.000000"
      ]
     },
     "execution_count": 29,
     "metadata": {},
     "output_type": "execute_result"
    }
   ],
   "source": [
    "# Get data from Github repo.\n",
    "url = \"https://raw.githubusercontent.com/mwaskom/seaborn-data/master/penguins.csv\"\n",
    "\n",
    "# Deal with missing values.\n",
    "missing_values = [\"NA\", \"N/A\"]\n",
    "\n",
    "#Define the column headers.\n",
    "col_headers = [\"species\", \"island\", \"bill_length_mm\", \"bill_depth_mm\", \"flipper_length_mm\", \"body_mass_g\", \"sex\"]\n",
    "\n",
    "data = pd.read_csv(url, header=0, na_values=missing_values, names = col_headers)\n",
    "\n",
    "# Read the data as a csv file from the url to a local file.\n",
    "with open(\"penguin_dataset.csv\", \"a\") as f: \n",
    "    f.write(str(penguin_data))\n",
    "    f.close\n",
    "\n",
    "# Show the variables with are continuous data.\n",
    "penguin_data.describe()"
   ]
  },
  {
   "cell_type": "code",
   "execution_count": 59,
   "metadata": {},
   "outputs": [
    {
     "name": "stdout",
     "output_type": "stream",
     "text": [
      "<class 'pandas.core.frame.DataFrame'>\n",
      "RangeIndex: 344 entries, 0 to 343\n",
      "Data columns (total 7 columns):\n",
      " #   Column             Non-Null Count  Dtype  \n",
      "---  ------             --------------  -----  \n",
      " 0   species            344 non-null    object \n",
      " 1   island             344 non-null    object \n",
      " 2   bill_length_mm     342 non-null    float64\n",
      " 3   bill_depth_mm      342 non-null    float64\n",
      " 4   flipper_length_mm  342 non-null    float64\n",
      " 5   body_mass_g        342 non-null    float64\n",
      " 6   sex                333 non-null    object \n",
      "dtypes: float64(4), object(3)\n",
      "memory usage: 18.9+ KB\n"
     ]
    }
   ],
   "source": [
    "#Show the count and data type of all the vaiables.\n",
    "penguin_data.info()"
   ]
  },
  {
   "cell_type": "markdown",
   "metadata": {},
   "source": [
    "Variables can either be described as categorical or continuous.\n",
    "\n",
    "- Categorical variables are also known as discrete or qualitative variables. Categorical variables can be further categorized as either nominal, ordinal or dichotomous.\n",
    "\n",
    "- Continuous variables are also known as quantitative variables. Continuous variables can be further categorized as either interval or ratio variables. [4]\n",
    "\n",
    "In the penguin data set there are seven different variables, three categorigal; species, island amd sex, and are read in as objects in the dataFrame. The remaining four are continous numerical variables; bill length (mm), bill depth (mm), flipper length (mm) and body mass (g), read in as float64 data types.  Float64 is a double-presion floating-point number which usually occupies 64 bits in computer memory [5]. For categorigal data hot encoding or label encoding can be used to represent the data it in models and for continuous data regression models or any other analysis that involves numeric data can be used. \n",
    "\n",
    "Hot encoding is a representation of categorical variables as binary vectors. This first requires that the categorical values be mapped to integer values. Then, each integer value is represented as a binary vector that is all zero values except the index of the integer, which is marked with a 1 [9]. \n",
    "\n",
    "Label encoding also converts categorical data to numerical data making it possible to then preform further analysis [11]. See example for label encoding below.\n",
    "\n"
   ]
  },
  {
   "cell_type": "code",
   "execution_count": 88,
   "metadata": {},
   "outputs": [
    {
     "data": {
      "text/plain": [
       "array(['Torgersen', 'Biscoe', 'Dream'], dtype=object)"
      ]
     },
     "execution_count": 88,
     "metadata": {},
     "output_type": "execute_result"
    }
   ],
   "source": [
    "penguin_data[\"island\"].unique()"
   ]
  },
  {
   "cell_type": "code",
   "execution_count": 91,
   "metadata": {},
   "outputs": [
    {
     "data": {
      "text/plain": [
       "array([2, 2, 2, 2, 2, 2, 2, 2, 2, 2, 2, 2, 2, 2, 2, 2, 2, 2, 2, 2, 0, 0,\n",
       "       0, 0, 0, 0, 0, 0, 0, 0, 1, 1, 1, 1, 1, 1, 1, 1, 1, 1, 1, 1, 1, 1,\n",
       "       1, 1, 1, 1, 1, 1, 0, 0, 0, 0, 0, 0, 0, 0, 0, 0, 0, 0, 0, 0, 0, 0,\n",
       "       0, 0, 2, 2, 2, 2, 2, 2, 2, 2, 2, 2, 2, 2, 2, 2, 2, 2, 1, 1, 1, 1,\n",
       "       1, 1, 1, 1, 1, 1, 1, 1, 1, 1, 1, 1, 0, 0, 0, 0, 0, 0, 0, 0, 0, 0,\n",
       "       0, 0, 0, 0, 0, 0, 2, 2, 2, 2, 2, 2, 2, 2, 2, 2, 2, 2, 2, 2, 2, 2,\n",
       "       1, 1, 1, 1, 1, 1, 1, 1, 1, 1, 1, 1, 1, 1, 1, 1, 1, 1, 1, 1, 1, 1,\n",
       "       1, 1, 1, 1, 1, 1, 1, 1, 1, 1, 1, 1, 1, 1, 1, 1, 1, 1, 1, 1, 1, 1,\n",
       "       1, 1, 1, 1, 1, 1, 1, 1, 1, 1, 1, 1, 1, 1, 1, 1, 1, 1, 1, 1, 1, 1,\n",
       "       1, 1, 1, 1, 1, 1, 1, 1, 1, 1, 1, 1, 1, 1, 1, 1, 1, 1, 1, 1, 1, 1,\n",
       "       0, 0, 0, 0, 0, 0, 0, 0, 0, 0, 0, 0, 0, 0, 0, 0, 0, 0, 0, 0, 0, 0,\n",
       "       0, 0, 0, 0, 0, 0, 0, 0, 0, 0, 0, 0, 0, 0, 0, 0, 0, 0, 0, 0, 0, 0,\n",
       "       0, 0, 0, 0, 0, 0, 0, 0, 0, 0, 0, 0, 0, 0, 0, 0, 0, 0, 0, 0, 0, 0,\n",
       "       0, 0, 0, 0, 0, 0, 0, 0, 0, 0, 0, 0, 0, 0, 0, 0, 0, 0, 0, 0, 0, 0,\n",
       "       0, 0, 0, 0, 0, 0, 0, 0, 0, 0, 0, 0, 0, 0, 0, 0, 0, 0, 0, 0, 0, 0,\n",
       "       0, 0, 0, 0, 0, 0, 0, 0, 0, 0, 0, 0, 0, 0])"
      ]
     },
     "execution_count": 91,
     "metadata": {},
     "output_type": "execute_result"
    }
   ],
   "source": [
    "from sklearn.preprocessing import LabelEncoder\n",
    "le = LabelEncoder()\n",
    "le.fit_transform(penguin_data[\"island\"])"
   ]
  },
  {
   "cell_type": "code",
   "execution_count": 93,
   "metadata": {},
   "outputs": [],
   "source": [
    "penguin_data[\"island_label\"] = le.fit_transform(penguin_data[\"island\"])"
   ]
  },
  {
   "cell_type": "code",
   "execution_count": 94,
   "metadata": {},
   "outputs": [
    {
     "data": {
      "text/plain": [
       "0    168\n",
       "1    124\n",
       "2     52\n",
       "Name: island_label, dtype: int64"
      ]
     },
     "execution_count": 94,
     "metadata": {},
     "output_type": "execute_result"
    }
   ],
   "source": [
    "penguin_data[\"island_label\"].value_counts()"
   ]
  },
  {
   "cell_type": "code",
   "execution_count": 95,
   "metadata": {},
   "outputs": [
    {
     "data": {
      "text/plain": [
       "Biscoe       168\n",
       "Dream        124\n",
       "Torgersen     52\n",
       "Name: island, dtype: int64"
      ]
     },
     "execution_count": 95,
     "metadata": {},
     "output_type": "execute_result"
    }
   ],
   "source": [
    "penguin_data[\"island\"].value_counts()"
   ]
  },
  {
   "cell_type": "markdown",
   "metadata": {},
   "source": [
    " ||species |island |bill_length_mm| bill_depth_mm |flipper_length_mm |body_mass_g |  sex|\n",
    " |---|:---|---|---|---|---|---|---|\n",
    " |**data type in original data set**|object|object|float64|float64|float64|float64|object|\n",
    " |**variable in original data set**|categorical|categorical|numerical|numerical|numerical|numerical|categorical|\n",
    " |**proposed python data type**|object/string|object/string|integer*|integer*|integer*|interger*|boolean|\n",
    " |**variable type for data collection** |categorical - nominal|categorical - nominal|continuous - interval|continuous - interval|continuous - interval|continuous - interval|categorical - dichotomous|\n",
    " \n",
    " Table 1: Proposed variable types compared to original data set\n",
    "  "
   ]
  },
  {
   "cell_type": "markdown",
   "metadata": {},
   "source": [
    "*The four numerical categories could also be collected as floats to provide more accurate data however floats can produces rounding errors when using python for analysis. "
   ]
  },
  {
   "cell_type": "markdown",
   "metadata": {},
   "source": [
    "## Task 2 - Conclusion"
   ]
  },
  {
   "cell_type": "markdown",
   "metadata": {},
   "source": [
    "xxx"
   ]
  },
  {
   "cell_type": "markdown",
   "metadata": {},
   "source": [
    "## Task 3 - Probability Distribution of the \"Penguin Data Set\" "
   ]
  },
  {
   "cell_type": "markdown",
   "metadata": {},
   "source": [
    "Question: For each of the variables in the penguins data set, suggest what probability distribution from the numpy random distributions list is the most appropriate to model the variable. "
   ]
  },
  {
   "cell_type": "markdown",
   "metadata": {},
   "source": [
    " ||species |island |bill_length_mm| bill_depth_mm |flipper_length_mm |body_mass_g |  sex|\n",
    " |---|:---|---|---|---|---|---|---|\n",
    "  |**variable type for data collection** |categorical - nominal|categorical - nominal|continuous - interval|continuous - interval|continuous - interval|continuous - interval|categorical - dichotomous|\n",
    "\n",
    " \n",
    " Table 2: Variable Types in the Data Set"
   ]
  },
  {
   "cell_type": "code",
   "execution_count": 64,
   "metadata": {},
   "outputs": [
    {
     "data": {
      "text/plain": [
       "(array([0.00318979, 0.00637959, 0.01913876, 0.03508772, 0.05103668,\n",
       "        0.0414673 , 0.06698565, 0.05422648, 0.06060606, 0.06698565,\n",
       "        0.0414673 , 0.0446571 , 0.0446571 , 0.02551834, 0.0861244 ,\n",
       "        0.07974482, 0.05741627, 0.03827751, 0.06060606, 0.06698565,\n",
       "        0.06698565, 0.03508772, 0.00956938, 0.00637959, 0.00637959,\n",
       "        0.00956938, 0.        , 0.        , 0.00318979, 0.00318979]),\n",
       " array([32.1       , 33.01666667, 33.93333333, 34.85      , 35.76666667,\n",
       "        36.68333333, 37.6       , 38.51666667, 39.43333333, 40.35      ,\n",
       "        41.26666667, 42.18333333, 43.1       , 44.01666667, 44.93333333,\n",
       "        45.85      , 46.76666667, 47.68333333, 48.6       , 49.51666667,\n",
       "        50.43333333, 51.35      , 52.26666667, 53.18333333, 54.1       ,\n",
       "        55.01666667, 55.93333333, 56.85      , 57.76666667, 58.68333333,\n",
       "        59.6       ]),\n",
       " <BarContainer object of 30 artists>)"
      ]
     },
     "execution_count": 64,
     "metadata": {},
     "output_type": "execute_result"
    },
    {
     "data": {
      "image/png": "[encoded data removed]",
      "text/plain": [
       "<Figure size 1200x600 with 1 Axes>"
      ]
     },
     "metadata": {},
     "output_type": "display_data"
    }
   ],
   "source": [
    "# Create an empty plot.\n",
    "fig, ax = plt.subplots(figsize=(12, 6))\n",
    "\n",
    "# Plot a histogram.\n",
    "ax.hist(x=penguin_data['bill_length_mm'], bins=30, density=True)"
   ]
  },
  {
   "cell_type": "code",
   "execution_count": 75,
   "metadata": {},
   "outputs": [
    {
     "data": {
      "text/plain": [
       "(array([0.03132832, 0.04177109, 0.14619883, 0.11487051, 0.09398496,\n",
       "        0.1566416 , 0.14619883, 0.11487051, 0.07309942, 0.10442774,\n",
       "        0.1566416 , 0.09398496, 0.12531328, 0.18796992, 0.14619883,\n",
       "        0.16708438, 0.1566416 , 0.25062657, 0.14619883, 0.20885547,\n",
       "        0.22974102, 0.18796992, 0.13575606, 0.08354219, 0.09398496,\n",
       "        0.05221387, 0.02088555, 0.04177109, 0.05221387, 0.01044277]),\n",
       " array([13.1 , 13.38, 13.66, 13.94, 14.22, 14.5 , 14.78, 15.06, 15.34,\n",
       "        15.62, 15.9 , 16.18, 16.46, 16.74, 17.02, 17.3 , 17.58, 17.86,\n",
       "        18.14, 18.42, 18.7 , 18.98, 19.26, 19.54, 19.82, 20.1 , 20.38,\n",
       "        20.66, 20.94, 21.22, 21.5 ]),\n",
       " <BarContainer object of 30 artists>)"
      ]
     },
     "execution_count": 75,
     "metadata": {},
     "output_type": "execute_result"
    }
   ],
   "source": [
    "# Create an empty plot.\n",
    "fig, ax = plt.subplots(figsize=(12, 6))\n",
    "\n",
    "# Plot a histogram.\n",
    "ax.hist(x=penguin_data['bill_depth_mm'], bins=30, density=True)"
   ]
  },
  {
   "cell_type": "code",
   "execution_count": 66,
   "metadata": {},
   "outputs": [
    {
     "data": {
      "text/plain": [
       "(array([0.00148677, 0.00148677, 0.00148677, 0.00743384, 0.01784121,\n",
       "        0.00743384, 0.02378828, 0.03419566, 0.01932798, 0.05203687,\n",
       "        0.03270889, 0.03270889, 0.02973536, 0.02081475, 0.01486768,\n",
       "        0.01338091, 0.0044603 , 0.0044603 , 0.01932798, 0.02378828,\n",
       "        0.01932798, 0.02676182, 0.02081475, 0.01486768, 0.01932798,\n",
       "        0.01189414, 0.01040737, 0.00148677, 0.00892061, 0.01189414]),\n",
       " array([172.        , 173.96666667, 175.93333333, 177.9       ,\n",
       "        179.86666667, 181.83333333, 183.8       , 185.76666667,\n",
       "        187.73333333, 189.7       , 191.66666667, 193.63333333,\n",
       "        195.6       , 197.56666667, 199.53333333, 201.5       ,\n",
       "        203.46666667, 205.43333333, 207.4       , 209.36666667,\n",
       "        211.33333333, 213.3       , 215.26666667, 217.23333333,\n",
       "        219.2       , 221.16666667, 223.13333333, 225.1       ,\n",
       "        227.06666667, 229.03333333, 231.        ]),\n",
       " <BarContainer object of 30 artists>)"
      ]
     },
     "execution_count": 66,
     "metadata": {},
     "output_type": "execute_result"
    },
    {
     "data": {
      "image/png": "[encoded data removed]",
      "text/plain": [
       "<Figure size 1200x600 with 1 Axes>"
      ]
     },
     "metadata": {},
     "output_type": "display_data"
    }
   ],
   "source": [
    "# Create an empty plot.\n",
    "fig, ax = plt.subplots(figsize=(12, 6))\n",
    "\n",
    "# Plot a histogram.\n",
    "ax.hist(x=penguin_data['flipper_length_mm'], bins=30, density=True)"
   ]
  },
  {
   "cell_type": "code",
   "execution_count": 62,
   "metadata": {},
   "outputs": [
    {
     "data": {
      "text/plain": [
       "(array([0.0142932 , 0.        , 0.0142932 , 0.0142932 , 0.0428796 ,\n",
       "        0.0428796 , 0.07146601, 0.08575921, 0.12863881, 0.12863881,\n",
       "        0.0571728 , 0.14293201, 0.20010482, 0.0571728 , 0.17151841,\n",
       "        0.11434561, 0.14293201, 0.08575921, 0.15722521, 0.14293201,\n",
       "        0.08575921, 0.07146601, 0.0428796 , 0.07146601, 0.        ,\n",
       "        0.0285864 , 0.        , 0.        , 0.        , 0.0428796 ]),\n",
       " array([32.1       , 32.56333333, 33.02666667, 33.49      , 33.95333333,\n",
       "        34.41666667, 34.88      , 35.34333333, 35.80666667, 36.27      ,\n",
       "        36.73333333, 37.19666667, 37.66      , 38.12333333, 38.58666667,\n",
       "        39.05      , 39.51333333, 39.97666667, 40.44      , 40.90333333,\n",
       "        41.36666667, 41.83      , 42.29333333, 42.75666667, 43.22      ,\n",
       "        43.68333333, 44.14666667, 44.61      , 45.07333333, 45.53666667,\n",
       "        46.        ]),\n",
       " <BarContainer object of 30 artists>)"
      ]
     },
     "execution_count": 62,
     "metadata": {},
     "output_type": "execute_result"
    },
    {
     "data": {
      "image/png": "[encoded data removed]",
      "text/plain": [
       "<Figure size 1000x600 with 1 Axes>"
      ]
     },
     "metadata": {},
     "output_type": "display_data"
    }
   ],
   "source": [
    "# Create an empty plot.\n",
    "fig, ax = plt.subplots(figsize=(10, 6))\n",
    "\n",
    "# Plot a histogram.\n",
    "ax.hist(x=Adelie['bill_length_mm'], bins=30, density=True)"
   ]
  },
  {
   "cell_type": "code",
   "execution_count": 86,
   "metadata": {},
   "outputs": [
    {
     "data": {
      "text/plain": [
       "Text(0, 0.5, 'Count')"
      ]
     },
     "execution_count": 86,
     "metadata": {},
     "output_type": "execute_result"
    },
    {
     "data": {
      "image/png": "[encoded data removed]",
      "text/plain": [
       "<Figure size 1000x600 with 1 Axes>"
      ]
     },
     "metadata": {},
     "output_type": "display_data"
    }
   ],
   "source": [
    "# Create an empty plot.\n",
    "fig, ax = plt.subplots(figsize=(12, 6))\n",
    "\n",
    "# Plot a bar chart\n",
    "\n",
    "ax = penguin_data['species'].value_counts().plot(kind='bar', figsize=(10,6), title=\"Count of Penguins by Species\")\n",
    "ax.set_xlabel(\"Penguin Species\")\n",
    "ax.set_ylabel(\"Count\")"
   ]
  },
  {
   "cell_type": "markdown",
   "metadata": {},
   "source": [
    " ||species |island |bill_length_mm| bill_depth_mm |flipper_length_mm |body_mass_g |  sex|\n",
    " |---|:---|---|---|---|---|---|---|\n",
    "  |**variable type for data collection** |categorical - nominal|categorical - nominal|continuous - interval|continuous - interval|continuous - interval|continuous - interval|categorical - dichotomous|\n",
    "  |**probability distribution**|object|object|object|object|object|object|object|\n",
    "\n",
    " \n",
    " Table 3: Proposed variable types compared to original data set"
   ]
  },
  {
   "cell_type": "markdown",
   "metadata": {},
   "source": [
    "***\n",
    "## References\n",
    "\n",
    "[1] The Simple Math Problem We Still Can’t Solve | Quanta Magazine. Sept. 22, 2020. https://www.quantamagazine.org/why-mathematicians-still-cant-solve-the-collatz-conjecture-20200922/ (visited on 10/10/2023)."
   ]
  },
  {
   "cell_type": "markdown",
   "metadata": {},
   "source": [
    "[2] Method 2  https://copyprogramming.com/howto/collatz-conjecture-in-python (visited 11/10/2023)\n"
   ]
  },
  {
   "cell_type": "markdown",
   "metadata": {},
   "source": [
    "[3] W. Ren, S. Li, R. Xiao and W. Bi, \"Collatz Conjecture for 2^100000-1 Is True - Algorithms for Verifying Extremely Large Numbers,\" 2018 IEEE SmartWorld, Ubiquitous Intelligence & Computing, Advanced & Trusted Computing, Scalable Computing & Communications, Cloud & Big Data Computing, Internet of People and Smart City Innovation (SmartWorld/SCALCOM/UIC/ATC/CBDCom/IOP/SCI), Guangzhou, China, 2018, pp. 411-416, doi: 10.1109/SmartWorld.2018.00099. https://ieeexplore.ieee.org/document/8560077 (visited 11/10/2023)"
   ]
  },
  {
   "cell_type": "markdown",
   "metadata": {},
   "source": [
    "[4] https://statistics.laerd.com/statistical-guides/types-of-variable.php (visited 24/10/2023)"
   ]
  },
  {
   "cell_type": "markdown",
   "metadata": {},
   "source": [
    "[5] https://en.wikipedia.org/wiki/Double-precision_floating-point_format (visited 24/10/2023)"
   ]
  },
  {
   "cell_type": "markdown",
   "metadata": {},
   "source": [
    "[6] mwaskom/seaborn-data: Data repository for seaborn examples. \n",
    "url: https://github.com/mwaskom/seaborn-data/blob/master/penguins.csv\n",
    "(visited on 24/10/2023)."
   ]
  },
  {
   "cell_type": "markdown",
   "metadata": {},
   "source": [
    "[7]  Random Generator — NumPy v1.25\n",
    "Manual. June 17, 2023. url: https://numpy.org/doc/stable/reference/random/generator.html#distributions (visited on06/11/2023)\n"
   ]
  },
  {
   "cell_type": "markdown",
   "metadata": {},
   "source": [
    "[8] https://stackoverflow.com/questions/48939795/how-to-plot-a-count-bar-chart-grouping-by-one-categorical-column-and-coloring-by (visited 07 Nov 2023)"
   ]
  },
  {
   "cell_type": "markdown",
   "metadata": {},
   "source": [
    "[9] https://machinelearningmastery.com/how-to-one-hot-encode-sequence-data-in-python/ (visited 07 Nov 2023)"
   ]
  },
  {
   "cell_type": "markdown",
   "metadata": {},
   "source": [
    "[10] https://medium.com/data-folks-indonesia/powering-up-your-pandas-part-ii-label-encoding-and-one-hot-encoding-dac0fce045da (visited 07 Nov 2023)"
   ]
  },
  {
   "cell_type": "markdown",
   "metadata": {},
   "source": [
    "[11] geeksforgeeks.org url: https://www.geeksforgeeks.org/ml-label-encoding-of-datasets-in-python/ (visited on 07 Nov 2023)"
   ]
  },
  {
   "cell_type": "markdown",
   "metadata": {},
   "source": []
  }
 ],
 "metadata": {
  "kernelspec": {
   "display_name": "base",
   "language": "python",
   "name": "python3"
  },
  "language_info": {
   "codemirror_mode": {
    "name": "ipython",
    "version": 3
   },
   "file_extension": ".py",
   "mimetype": "text/x-python",
   "name": "python",
   "nbconvert_exporter": "python",
   "pygments_lexer": "ipython3",
   "version": "3.10.9"
  },
  "orig_nbformat": 4
 },
 "nbformat": 4,
 "nbformat_minor": 2
}
