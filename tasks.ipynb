{
 "cells": [
  {
   "cell_type": "markdown",
   "metadata": {},
   "source": [
    "## Fundamentals of Data Analytics Tasks \n",
    "\n",
    "***\n",
    "\n",
    "Author: Emma Dunleavy\n",
    "\n",
    "Module Fundamentals of Data Analytics Winter 2023/24\n",
    "\n",
    "Lecturer: Ian McLoughlin\n",
    "***"
   ]
  },
  {
   "cell_type": "markdown",
   "metadata": {},
   "source": [
    "<div class=\"alert alert-block alert-info\">\n",
    "<b>Note:</b> References for all tasks are listed at the bottom of the Notebook.\n",
    "</div>"
   ]
  },
  {
   "cell_type": "markdown",
   "metadata": {},
   "source": [
    "### Task 1 - The Collatz Conjecture"
   ]
  },
  {
   "cell_type": "markdown",
   "metadata": {},
   "source": [
    "The Collatz conjecture is a famous unsolved problem in mathematics. The problem is to prove that if you start with any positive integer $x$ and repeatedly apply the function $f(x)$ below, you always get stuck in the repeating sequence 1, 4, 2, 1, 4, 2, . . .\n"
   ]
  },
  {
   "cell_type": "markdown",
   "metadata": {},
   "source": [
    "$$ \n",
    "\\\\ f(x) = \n",
    "\\begin{cases} \n",
    "x ÷ 2&\\text{if $x$ is even}\\\\\n",
    "3x + 1&\\text{if $x$ is odd}\\\\\n",
    "\\end{cases}\n",
    "$$\n",
    "\n",
    "          \n",
    "\n"
   ]
  },
  {
   "cell_type": "markdown",
   "metadata": {},
   "source": [
    "For example, starting with the value 10, which is an even number,\n",
    "we divide it by 2 to get 5. Then 5 is an odd number so, we multiply by 3 and add 1 to get 16. Then we repeatedly divide by 2 to get 8, 4, 2, 1. Once we are at 1, we go back to 4 and get stuck in the repeating sequence 4, 2, 1 as we suspected."
   ]
  },
  {
   "cell_type": "markdown",
   "metadata": {},
   "source": [
    "The task is to verify, using Python, that the conjecture is true for the first 10,000 positive integers.\n",
    "***"
   ]
  },
  {
   "cell_type": "markdown",
   "metadata": {},
   "source": [
    "### Task 1 Introduction\n",
    "\n",
    "There are a number of different ways to solve this problem, though it is not possible to simply create a list using range or list opperand getting the following error : \"TypeError: unsupported operand type(s) for %: 'range' and 'int'\". "
   ]
  },
  {
   "cell_type": "markdown",
   "metadata": {},
   "source": [
    "### Task 1  - Code"
   ]
  },
  {
   "cell_type": "markdown",
   "metadata": {},
   "source": [
    "Method 1 - Ask user to input a positive integer, *<u>or</u>* randomly selecting a number between 1 and 10000. Then using 'while', 'if' and 'else' functions."
   ]
  },
  {
   "cell_type": "markdown",
   "metadata": {},
   "source": [
    "User inputting a positive integer "
   ]
  },
  {
   "cell_type": "code",
   "execution_count": 11,
   "metadata": {},
   "outputs": [
    {
     "name": "stdout",
     "output_type": "stream",
     "text": [
      "9 28 14 7 22 11 34 17 52 26 13 40 20 10 5 16 8 4 2 1 "
     ]
    }
   ],
   "source": [
    "pos_int = int(input(\"Enter a positive integer:\"))\n",
    "pos_ints=[pos_int] #pos_int will create a list\n",
    "\n",
    "while pos_int >1:                         # while inputted positive integer is > 1\n",
    "    if pos_int % 2 == 0:                  # if it is an even number\n",
    "        pos_int = pos_int/2               # it is divided by 2\n",
    "        pos_ints.append(int(pos_int)) \n",
    "\n",
    "    else:\n",
    "        pos_int % 2 !=0                  # or else if it is an odd number\n",
    "        pos_int = (pos_int * 3) + 1      # multiply by 3 and add 1\n",
    "        pos_ints.append(int(pos_int))\n",
    "\n",
    "for i in pos_ints:\n",
    "    print(i, end = ' ')                   # print the list of numbers generated without commas or brackets\n"
   ]
  },
  {
   "cell_type": "markdown",
   "metadata": {},
   "source": [
    "Randomly selecting a number between 1 and 10000."
   ]
  },
  {
   "cell_type": "code",
   "execution_count": 12,
   "metadata": {},
   "outputs": [
    {
     "name": "stdout",
     "output_type": "stream",
     "text": [
      "1836\n",
      "[1836, 918, 459, 1378, 689, 2068, 1034, 517, 1552, 776, 388, 194, 97, 292, 146, 73, 220, 110, 55, 166, 83, 250, 125, 376, 188, 94, 47, 142, 71, 214, 107, 322, 161, 484, 242, 121, 364, 182, 91, 274, 137, 412, 206, 103, 310, 155, 466, 233, 700, 350, 175, 526, 263, 790, 395, 1186, 593, 1780, 890, 445, 1336, 668, 334, 167, 502, 251, 754, 377, 1132, 566, 283, 850, 425, 1276, 638, 319, 958, 479, 1438, 719, 2158, 1079, 3238, 1619, 4858, 2429, 7288, 3644, 1822, 911, 2734, 1367, 4102, 2051, 6154, 3077, 9232, 4616, 2308, 1154, 577, 1732, 866, 433, 1300, 650, 325, 976, 488, 244, 122, 61, 184, 92, 46, 23, 70, 35, 106, 53, 160, 80, 40, 20, 10, 5, 16, 8, 4, 2, 1] "
     ]
    }
   ],
   "source": [
    "import random\n",
    "\n",
    "pos_int = random.randint(1, 10001)\n",
    "print(pos_int)\n",
    "\n",
    "pos_ints=[pos_int]\n",
    "\n",
    "#for i in pos_int:\n",
    "while pos_int >1: \n",
    "    if pos_int % 2 == 0:                  # if it is an even number\n",
    "        pos_int = pos_int/2               # it is divided by 2\n",
    "        pos_ints.append(int(pos_int))    \n",
    "    else:\n",
    "        pos_int % 2 !=0                  # or else if it is an odd number\n",
    "        pos_int = (pos_int * 3) + 1      # multiply by 3 and add 1\n",
    "        pos_ints.append(int(pos_int))\n",
    "\n",
    "\n",
    "print(pos_ints, end = ' ')                   # print the list of numbers generated without commas or brackets"
   ]
  },
  {
   "cell_type": "markdown",
   "metadata": {},
   "source": [
    "Method 2 - defining the number before running the code."
   ]
  },
  {
   "cell_type": "code",
   "execution_count": 13,
   "metadata": {},
   "outputs": [
    {
     "name": "stdout",
     "output_type": "stream",
     "text": [
      "[6450, 3225, 9676, 4838, 2419, 7258, 3629, 10888, 5444, 2722, 1361, 4084, 2042, 1021, 3064, 1532, 766, 383, 1150, 575, 1726, 863, 2590, 1295, 3886, 1943, 5830, 2915, 8746, 4373, 13120, 6560, 3280, 1640, 820, 410, 205, 616, 308, 154, 77, 232, 116, 58, 29, 88, 44, 22, 11, 34, 17, 52, 26, 13, 40, 20, 10, 5, 16, 8, 4, 2, 1]\n"
     ]
    }
   ],
   "source": [
    "def collatz(n):\n",
    "    l = []\n",
    "    l.append(n)\n",
    "    while n != 1:\n",
    "        if n % 2 == 0:\n",
    "            n = n // 2\n",
    "            l.append(n)\n",
    "        else:\n",
    "            n = (3*n) + 1\n",
    "            l.append(n)\n",
    "    return l\n",
    "print (collatz(6450))"
   ]
  },
  {
   "cell_type": "markdown",
   "metadata": {},
   "source": [
    "$\\color{orange}{\\text{Example using method 1:}}$ \n",
    "\n",
    "Number *<u>randomly</u>* selected : 6450\n",
    "\n",
    "Output\n",
    "\n",
    "[6450, 3225, 9676, 4838, 2419, 7258, 3629, 10888, 5444, 2722, 1361, 4084, 2042, 1021, 3064, 1532, 766, 383, 1150, 575, 1726, 863, 2590, 1295, 3886, 1943, 5830, 2915, 8746, 4373, 13120, 6560, 3280, 1640, 820, 410, 205, 616, 308, 154, 77, 232, 116, 58, 29, 88, 44, 22, 11, 34, 17, 52, 26, 13, 40, 20, 10, 5, 16, 8, 4, 2, 1]"
   ]
  },
  {
   "cell_type": "markdown",
   "metadata": {},
   "source": [
    "$\\color{orange}{\\text{Example using method 2:}}$"
   ]
  },
  {
   "cell_type": "markdown",
   "metadata": {},
   "source": [
    "Number selected : 6450\n",
    "\n",
    "Output\n",
    "\n",
    "[6450, 3225, 9676, 4838, 2419, 7258, 3629, 10888, 5444, 2722, 1361, 4084, 2042, 1021, 3064, 1532, 766, 383, 1150, 575, 1726, 863, 2590, 1295, 3886, 1943, 5830, 2915, 8746, 4373, 13120, 6560, 3280, 1640, 820, 410, 205, 616, 308, 154, 77, 232, 116, 58, 29, 88, 44, 22, 11, 34, 17, 52, 26, 13, 40, 20, 10, 5, 16, 8, 4, 2, 1]\n"
   ]
  },
  {
   "cell_type": "markdown",
   "metadata": {},
   "source": [
    "#### Task 1 - Conclusion\n",
    "\n",
    "Although all iterartions were not tested in this notebook the conjecture is most probably true for the first 10,000 positive integers. Using the above methods no example of counter examples were observed and this problem has been widely studied for over 80 years and tested and confirmed as true up to 2 100000 - 1 [3]."
   ]
  },
  {
   "cell_type": "markdown",
   "metadata": {},
   "source": [
    "***\n",
    "### Task 2 - Variables of the \"Penguin Data Set\" "
   ]
  },
  {
   "cell_type": "markdown",
   "metadata": {},
   "source": [
    "Give an overview of the famous penguins data set, explaining the types of variables it contains. Suggest the types of variables that should be used to model them in Python, explaining your rationale.\n"
   ]
  },
  {
   "cell_type": "code",
   "execution_count": 13,
   "metadata": {},
   "outputs": [
    {
     "data": {
      "text/html": [
       "<div>\n",
       "<style scoped>\n",
       "    .dataframe tbody tr th:only-of-type {\n",
       "        vertical-align: middle;\n",
       "    }\n",
       "\n",
       "    .dataframe tbody tr th {\n",
       "        vertical-align: top;\n",
       "    }\n",
       "\n",
       "    .dataframe thead th {\n",
       "        text-align: right;\n",
       "    }\n",
       "</style>\n",
       "<table border=\"1\" class=\"dataframe\">\n",
       "  <thead>\n",
       "    <tr style=\"text-align: right;\">\n",
       "      <th></th>\n",
       "      <th>bill_length_mm</th>\n",
       "      <th>bill_depth_mm</th>\n",
       "      <th>flipper_length_mm</th>\n",
       "      <th>body_mass_g</th>\n",
       "    </tr>\n",
       "  </thead>\n",
       "  <tbody>\n",
       "    <tr>\n",
       "      <th>count</th>\n",
       "      <td>342.000000</td>\n",
       "      <td>342.000000</td>\n",
       "      <td>342.000000</td>\n",
       "      <td>342.000000</td>\n",
       "    </tr>\n",
       "    <tr>\n",
       "      <th>mean</th>\n",
       "      <td>43.921930</td>\n",
       "      <td>17.151170</td>\n",
       "      <td>200.915205</td>\n",
       "      <td>4201.754386</td>\n",
       "    </tr>\n",
       "    <tr>\n",
       "      <th>std</th>\n",
       "      <td>5.459584</td>\n",
       "      <td>1.974793</td>\n",
       "      <td>14.061714</td>\n",
       "      <td>801.954536</td>\n",
       "    </tr>\n",
       "    <tr>\n",
       "      <th>min</th>\n",
       "      <td>32.100000</td>\n",
       "      <td>13.100000</td>\n",
       "      <td>172.000000</td>\n",
       "      <td>2700.000000</td>\n",
       "    </tr>\n",
       "    <tr>\n",
       "      <th>25%</th>\n",
       "      <td>39.225000</td>\n",
       "      <td>15.600000</td>\n",
       "      <td>190.000000</td>\n",
       "      <td>3550.000000</td>\n",
       "    </tr>\n",
       "    <tr>\n",
       "      <th>50%</th>\n",
       "      <td>44.450000</td>\n",
       "      <td>17.300000</td>\n",
       "      <td>197.000000</td>\n",
       "      <td>4050.000000</td>\n",
       "    </tr>\n",
       "    <tr>\n",
       "      <th>75%</th>\n",
       "      <td>48.500000</td>\n",
       "      <td>18.700000</td>\n",
       "      <td>213.000000</td>\n",
       "      <td>4750.000000</td>\n",
       "    </tr>\n",
       "    <tr>\n",
       "      <th>max</th>\n",
       "      <td>59.600000</td>\n",
       "      <td>21.500000</td>\n",
       "      <td>231.000000</td>\n",
       "      <td>6300.000000</td>\n",
       "    </tr>\n",
       "  </tbody>\n",
       "</table>\n",
       "</div>"
      ],
      "text/plain": [
       "       bill_length_mm  bill_depth_mm  flipper_length_mm  body_mass_g\n",
       "count      342.000000     342.000000         342.000000   342.000000\n",
       "mean        43.921930      17.151170         200.915205  4201.754386\n",
       "std          5.459584       1.974793          14.061714   801.954536\n",
       "min         32.100000      13.100000         172.000000  2700.000000\n",
       "25%         39.225000      15.600000         190.000000  3550.000000\n",
       "50%         44.450000      17.300000         197.000000  4050.000000\n",
       "75%         48.500000      18.700000         213.000000  4750.000000\n",
       "max         59.600000      21.500000         231.000000  6300.000000"
      ]
     },
     "execution_count": 13,
     "metadata": {},
     "output_type": "execute_result"
    }
   ],
   "source": [
    "import pandas as pd\n",
    "\n",
    "url = \"https://raw.githubusercontent.com/mwaskom/seaborn-data/master/penguins.csv\"\n",
    "\n",
    "missing_values = [\"NA\", \"N/A\"]\n",
    "\n",
    "penguin_data = pd.read_csv(url, header=0, na_values=missing_values )\n",
    "\n",
    "# Read the data as a csv file from the url to a local file.\n",
    "with open(\"penguin_dataset.csv\", \"a\") as f: \n",
    "    f.write(str(penguin_data))\n",
    "    f.close\n",
    "\n",
    "# Show.\n",
    "penguin_data.describe()\n",
    "\n"
   ]
  },
  {
   "cell_type": "code",
   "execution_count": 18,
   "metadata": {},
   "outputs": [
    {
     "name": "stdout",
     "output_type": "stream",
     "text": [
      "<class 'pandas.core.frame.DataFrame'>\n",
      "RangeIndex: 344 entries, 0 to 343\n",
      "Data columns (total 7 columns):\n",
      " #   Column             Non-Null Count  Dtype  \n",
      "---  ------             --------------  -----  \n",
      " 0   species            344 non-null    object \n",
      " 1   island             344 non-null    object \n",
      " 2   bill_length_mm     342 non-null    float64\n",
      " 3   bill_depth_mm      342 non-null    float64\n",
      " 4   flipper_length_mm  342 non-null    float64\n",
      " 5   body_mass_g        342 non-null    float64\n",
      " 6   sex                333 non-null    object \n",
      "dtypes: float64(4), object(3)\n",
      "memory usage: 18.9+ KB\n"
     ]
    }
   ],
   "source": [
    "#Show\n",
    "\n",
    "penguin_data.info()"
   ]
  },
  {
   "cell_type": "markdown",
   "metadata": {},
   "source": [
    "Variables can either be described as categorical or continuous.\n",
    "\n",
    "- Categorical variables are also known as discrete or qualitative variables. Categorical variables can be further categorized as either nominal, ordinal or dichotomous.\n",
    "\n",
    "- Continuous variables are also known as quantitative variables. Continuous variables can be further categorized as either interval or ratio variables. [4]"
   ]
  },
  {
   "cell_type": "markdown",
   "metadata": {},
   "source": [
    " ||species |island |bill_length_mm| bill_depth_mm |flipper_length_mm |body_mass_g |  sex|\n",
    " |---|:---|---|---|---|---|---|---|\n",
    " |**data type in original data set**|object|object|object|object|object|object|object|\n",
    " |**variable in original data set**|categorical|categorical|numerical|numerical|numerical|numerical|categorical|\n",
    " |**proposed python data type**|object/string|object/string|integer*|integer*|integer*|interger*|boolean|\n",
    " |**variable type for data collection** |categorical - nominal|categorical - nominal|continuous - interval|continuous - interval|continuous - interval|continuous - interval|categorical - dichotomous|\n",
    " \n",
    " Table 1: Proposed variable types compared to original data set\n",
    "  "
   ]
  },
  {
   "cell_type": "markdown",
   "metadata": {},
   "source": [
    "As per the Real Python website according to the *pandas Cookbook* , the object data type is *“a catch-all for columns that pandas doesn’t recognize as any other specific type.”* In practice, it often means that all of the values in the column are strings. [5]"
   ]
  },
  {
   "cell_type": "markdown",
   "metadata": {},
   "source": [
    "*The four numerical categories could also be collected as floats to provide more accurate data however floats can produces rounding errors when using python for analysis. "
   ]
  },
  {
   "cell_type": "markdown",
   "metadata": {},
   "source": [
    "## Task 2 - Conclusion"
   ]
  },
  {
   "cell_type": "markdown",
   "metadata": {},
   "source": [
    "xxx"
   ]
  },
  {
   "cell_type": "markdown",
   "metadata": {},
   "source": [
    "## Task 3 - Probability Distribution of the \"Penguin Data Set\" "
   ]
  },
  {
   "cell_type": "markdown",
   "metadata": {},
   "source": []
  },
  {
   "cell_type": "code",
   "execution_count": 21,
   "metadata": {},
   "outputs": [],
   "source": [
    "# Define each of the species as it's own variable.\n",
    "\n",
    "Adelie = penguin_data[penguin_data['species'] == \"Adelie\"]\n",
    "Chinstrap = penguin_data[penguin_data['species'] == \"Chinstrap\"]\n",
    "Gentoo  = penguin_data[penguin_data['species'] == \"Gentoo \"]"
   ]
  },
  {
   "cell_type": "code",
   "execution_count": 24,
   "metadata": {},
   "outputs": [
    {
     "ename": "ConversionError",
     "evalue": "Failed to convert value(s) to axis units: array(['MALE', 'FEMALE', 'FEMALE', nan, 'FEMALE', 'MALE', 'FEMALE',\n       'MALE', nan, nan, nan, nan, 'FEMALE', 'MALE', 'MALE', 'FEMALE',\n       'FEMALE', 'MALE', 'FEMALE', 'MALE', 'FEMALE', 'MALE', 'FEMALE',\n       'MALE', 'MALE', 'FEMALE', 'MALE', 'FEMALE', 'FEMALE', 'MALE',\n       'FEMALE', 'MALE', 'FEMALE', 'MALE', 'FEMALE', 'MALE', 'MALE',\n       'FEMALE', 'FEMALE', 'MALE', 'FEMALE', 'MALE', 'FEMALE', 'MALE',\n       'FEMALE', 'MALE', 'MALE', nan, 'FEMALE', 'MALE', 'FEMALE', 'MALE',\n       'FEMALE', 'MALE', 'FEMALE', 'MALE', 'FEMALE', 'MALE', 'FEMALE',\n       'MALE', 'FEMALE', 'MALE', 'FEMALE', 'MALE', 'FEMALE', 'MALE',\n       'FEMALE', 'MALE', 'FEMALE', 'MALE', 'FEMALE', 'MALE', 'FEMALE',\n       'MALE', 'FEMALE', 'MALE', 'FEMALE', 'MALE', 'FEMALE', 'MALE',\n       'FEMALE', 'MALE', 'FEMALE', 'MALE', 'FEMALE', 'MALE', 'MALE',\n       'FEMALE', 'MALE', 'FEMALE', 'FEMALE', 'MALE', 'FEMALE', 'MALE',\n       'FEMALE', 'MALE', 'FEMALE', 'MALE', 'FEMALE', 'MALE', 'FEMALE',\n       'MALE', 'FEMALE', 'MALE', 'FEMALE', 'MALE', 'FEMALE', 'MALE',\n       'FEMALE', 'MALE', 'FEMALE', 'MALE', 'FEMALE', 'MALE', 'FEMALE',\n       'MALE', 'FEMALE', 'MALE', 'FEMALE', 'MALE', 'FEMALE', 'MALE',\n       'FEMALE', 'MALE', 'FEMALE', 'MALE', 'FEMALE', 'MALE', 'FEMALE',\n       'MALE', 'FEMALE', 'MALE', 'FEMALE', 'MALE', 'FEMALE', 'MALE',\n       'FEMALE', 'MALE', 'FEMALE', 'MALE', 'FEMALE', 'MALE', 'FEMALE',\n       'MALE', 'FEMALE', 'MALE', 'MALE', 'FEMALE', 'FEMALE', 'MALE',\n       'FEMALE', 'MALE'], dtype=object)",
     "output_type": "error",
     "traceback": [
      "\u001b[1;31m---------------------------------------------------------------------------\u001b[0m",
      "\u001b[1;31mTypeError\u001b[0m                                 Traceback (most recent call last)",
      "File \u001b[1;32mc:\\Users\\kellye.GLOBAL\\AppData\\Local\\anaconda3\\lib\\site-packages\\matplotlib\\axis.py:1736\u001b[0m, in \u001b[0;36mAxis.convert_units\u001b[1;34m(self, x)\u001b[0m\n\u001b[0;32m   1735\u001b[0m \u001b[39mtry\u001b[39;00m:\n\u001b[1;32m-> 1736\u001b[0m     ret \u001b[39m=\u001b[39m \u001b[39mself\u001b[39;49m\u001b[39m.\u001b[39;49mconverter\u001b[39m.\u001b[39;49mconvert(x, \u001b[39mself\u001b[39;49m\u001b[39m.\u001b[39;49munits, \u001b[39mself\u001b[39;49m)\n\u001b[0;32m   1737\u001b[0m \u001b[39mexcept\u001b[39;00m \u001b[39mException\u001b[39;00m \u001b[39mas\u001b[39;00m e:\n",
      "File \u001b[1;32mc:\\Users\\kellye.GLOBAL\\AppData\\Local\\anaconda3\\lib\\site-packages\\matplotlib\\category.py:57\u001b[0m, in \u001b[0;36mStrCategoryConverter.convert\u001b[1;34m(value, unit, axis)\u001b[0m\n\u001b[0;32m     56\u001b[0m \u001b[39m# force an update so it also does type checking\u001b[39;00m\n\u001b[1;32m---> 57\u001b[0m unit\u001b[39m.\u001b[39;49mupdate(values)\n\u001b[0;32m     58\u001b[0m \u001b[39mreturn\u001b[39;00m np\u001b[39m.\u001b[39mvectorize(unit\u001b[39m.\u001b[39m_mapping\u001b[39m.\u001b[39m\u001b[39m__getitem__\u001b[39m, otypes\u001b[39m=\u001b[39m[\u001b[39mfloat\u001b[39m])(values)\n",
      "File \u001b[1;32mc:\\Users\\kellye.GLOBAL\\AppData\\Local\\anaconda3\\lib\\site-packages\\matplotlib\\category.py:216\u001b[0m, in \u001b[0;36mUnitData.update\u001b[1;34m(self, data)\u001b[0m\n\u001b[0;32m    214\u001b[0m \u001b[39mfor\u001b[39;00m val \u001b[39min\u001b[39;00m OrderedDict\u001b[39m.\u001b[39mfromkeys(data):\n\u001b[0;32m    215\u001b[0m     \u001b[39m# OrderedDict just iterates over unique values in data.\u001b[39;00m\n\u001b[1;32m--> 216\u001b[0m     _api\u001b[39m.\u001b[39;49mcheck_isinstance((\u001b[39mstr\u001b[39;49m, \u001b[39mbytes\u001b[39;49m), value\u001b[39m=\u001b[39;49mval)\n\u001b[0;32m    217\u001b[0m     \u001b[39mif\u001b[39;00m convertible:\n\u001b[0;32m    218\u001b[0m         \u001b[39m# this will only be called so long as convertible is True.\u001b[39;00m\n",
      "File \u001b[1;32mc:\\Users\\kellye.GLOBAL\\AppData\\Local\\anaconda3\\lib\\site-packages\\matplotlib\\_api\\__init__.py:93\u001b[0m, in \u001b[0;36mcheck_isinstance\u001b[1;34m(_types, **kwargs)\u001b[0m\n\u001b[0;32m     92\u001b[0m     names\u001b[39m.\u001b[39mappend(\u001b[39m\"\u001b[39m\u001b[39mNone\u001b[39m\u001b[39m\"\u001b[39m)\n\u001b[1;32m---> 93\u001b[0m \u001b[39mraise\u001b[39;00m \u001b[39mTypeError\u001b[39;00m(\n\u001b[0;32m     94\u001b[0m     \u001b[39m\"\u001b[39m\u001b[39m{!r}\u001b[39;00m\u001b[39m must be an instance of \u001b[39m\u001b[39m{}\u001b[39;00m\u001b[39m, not a \u001b[39m\u001b[39m{}\u001b[39;00m\u001b[39m\"\u001b[39m\u001b[39m.\u001b[39mformat(\n\u001b[0;32m     95\u001b[0m         k,\n\u001b[0;32m     96\u001b[0m         \u001b[39m\"\u001b[39m\u001b[39m, \u001b[39m\u001b[39m\"\u001b[39m\u001b[39m.\u001b[39mjoin(names[:\u001b[39m-\u001b[39m\u001b[39m1\u001b[39m]) \u001b[39m+\u001b[39m \u001b[39m\"\u001b[39m\u001b[39m or \u001b[39m\u001b[39m\"\u001b[39m \u001b[39m+\u001b[39m names[\u001b[39m-\u001b[39m\u001b[39m1\u001b[39m]\n\u001b[0;32m     97\u001b[0m         \u001b[39mif\u001b[39;00m \u001b[39mlen\u001b[39m(names) \u001b[39m>\u001b[39m \u001b[39m1\u001b[39m \u001b[39melse\u001b[39;00m names[\u001b[39m0\u001b[39m],\n\u001b[0;32m     98\u001b[0m         type_name(\u001b[39mtype\u001b[39m(v))))\n",
      "\u001b[1;31mTypeError\u001b[0m: 'value' must be an instance of str or bytes, not a float",
      "\nThe above exception was the direct cause of the following exception:\n",
      "\u001b[1;31mConversionError\u001b[0m                           Traceback (most recent call last)",
      "\u001b[1;32mc:\\Users\\kellye.GLOBAL\\OneDrive - Baxter\\Emma\\College\\FUNDAMENTALS_OF_DA\\Fundamentals_of_DA\\tasks.ipynb Cell 34\u001b[0m line \u001b[0;36m7\n\u001b[0;32m      <a href='vscode-notebook-cell:/c%3A/Users/kellye.GLOBAL/OneDrive%20-%20Baxter/Emma/College/FUNDAMENTALS_OF_DA/Fundamentals_of_DA/tasks.ipynb#X62sZmlsZQ%3D%3D?line=3'>4</a>\u001b[0m fig, ax \u001b[39m=\u001b[39m plt\u001b[39m.\u001b[39msubplots(figsize\u001b[39m=\u001b[39m(\u001b[39m12\u001b[39m, \u001b[39m3\u001b[39m))\n\u001b[0;32m      <a href='vscode-notebook-cell:/c%3A/Users/kellye.GLOBAL/OneDrive%20-%20Baxter/Emma/College/FUNDAMENTALS_OF_DA/Fundamentals_of_DA/tasks.ipynb#X62sZmlsZQ%3D%3D?line=5'>6</a>\u001b[0m \u001b[39m# Plot a histogram.\u001b[39;00m\n\u001b[1;32m----> <a href='vscode-notebook-cell:/c%3A/Users/kellye.GLOBAL/OneDrive%20-%20Baxter/Emma/College/FUNDAMENTALS_OF_DA/Fundamentals_of_DA/tasks.ipynb#X62sZmlsZQ%3D%3D?line=6'>7</a>\u001b[0m ax\u001b[39m.\u001b[39;49mhist(Adelie, bins\u001b[39m=\u001b[39;49m\u001b[39m100\u001b[39;49m, density\u001b[39m=\u001b[39;49m\u001b[39mTrue\u001b[39;49;00m)\n",
      "File \u001b[1;32mc:\\Users\\kellye.GLOBAL\\AppData\\Local\\anaconda3\\lib\\site-packages\\matplotlib\\__init__.py:1442\u001b[0m, in \u001b[0;36m_preprocess_data.<locals>.inner\u001b[1;34m(ax, data, *args, **kwargs)\u001b[0m\n\u001b[0;32m   1439\u001b[0m \u001b[39m@functools\u001b[39m\u001b[39m.\u001b[39mwraps(func)\n\u001b[0;32m   1440\u001b[0m \u001b[39mdef\u001b[39;00m \u001b[39minner\u001b[39m(ax, \u001b[39m*\u001b[39margs, data\u001b[39m=\u001b[39m\u001b[39mNone\u001b[39;00m, \u001b[39m*\u001b[39m\u001b[39m*\u001b[39mkwargs):\n\u001b[0;32m   1441\u001b[0m     \u001b[39mif\u001b[39;00m data \u001b[39mis\u001b[39;00m \u001b[39mNone\u001b[39;00m:\n\u001b[1;32m-> 1442\u001b[0m         \u001b[39mreturn\u001b[39;00m func(ax, \u001b[39m*\u001b[39m\u001b[39mmap\u001b[39m(sanitize_sequence, args), \u001b[39m*\u001b[39m\u001b[39m*\u001b[39mkwargs)\n\u001b[0;32m   1444\u001b[0m     bound \u001b[39m=\u001b[39m new_sig\u001b[39m.\u001b[39mbind(ax, \u001b[39m*\u001b[39margs, \u001b[39m*\u001b[39m\u001b[39m*\u001b[39mkwargs)\n\u001b[0;32m   1445\u001b[0m     auto_label \u001b[39m=\u001b[39m (bound\u001b[39m.\u001b[39marguments\u001b[39m.\u001b[39mget(label_namer)\n\u001b[0;32m   1446\u001b[0m                   \u001b[39mor\u001b[39;00m bound\u001b[39m.\u001b[39mkwargs\u001b[39m.\u001b[39mget(label_namer))\n",
      "File \u001b[1;32mc:\\Users\\kellye.GLOBAL\\AppData\\Local\\anaconda3\\lib\\site-packages\\matplotlib\\axes\\_axes.py:6711\u001b[0m, in \u001b[0;36mAxes.hist\u001b[1;34m(self, x, bins, range, density, weights, cumulative, bottom, histtype, align, orientation, rwidth, log, color, label, stacked, **kwargs)\u001b[0m\n\u001b[0;32m   6709\u001b[0m \u001b[39mif\u001b[39;00m orientation \u001b[39m==\u001b[39m \u001b[39m\"\u001b[39m\u001b[39mvertical\u001b[39m\u001b[39m\"\u001b[39m:\n\u001b[0;32m   6710\u001b[0m     convert_units \u001b[39m=\u001b[39m \u001b[39mself\u001b[39m\u001b[39m.\u001b[39mconvert_xunits\n\u001b[1;32m-> 6711\u001b[0m     x \u001b[39m=\u001b[39m [\u001b[39m*\u001b[39m\u001b[39mself\u001b[39m\u001b[39m.\u001b[39m_process_unit_info([(\u001b[39m\"\u001b[39m\u001b[39mx\u001b[39m\u001b[39m\"\u001b[39m, x[\u001b[39m0\u001b[39m])], kwargs),\n\u001b[0;32m   6712\u001b[0m          \u001b[39m*\u001b[39m\u001b[39mmap\u001b[39m(convert_units, x[\u001b[39m1\u001b[39m:])]\n\u001b[0;32m   6713\u001b[0m \u001b[39melse\u001b[39;00m:  \u001b[39m# horizontal\u001b[39;00m\n\u001b[0;32m   6714\u001b[0m     convert_units \u001b[39m=\u001b[39m \u001b[39mself\u001b[39m\u001b[39m.\u001b[39mconvert_yunits\n",
      "File \u001b[1;32mc:\\Users\\kellye.GLOBAL\\AppData\\Local\\anaconda3\\lib\\site-packages\\matplotlib\\artist.py:281\u001b[0m, in \u001b[0;36mArtist.convert_xunits\u001b[1;34m(self, x)\u001b[0m\n\u001b[0;32m    279\u001b[0m \u001b[39mif\u001b[39;00m ax \u001b[39mis\u001b[39;00m \u001b[39mNone\u001b[39;00m \u001b[39mor\u001b[39;00m ax\u001b[39m.\u001b[39mxaxis \u001b[39mis\u001b[39;00m \u001b[39mNone\u001b[39;00m:\n\u001b[0;32m    280\u001b[0m     \u001b[39mreturn\u001b[39;00m x\n\u001b[1;32m--> 281\u001b[0m \u001b[39mreturn\u001b[39;00m ax\u001b[39m.\u001b[39;49mxaxis\u001b[39m.\u001b[39;49mconvert_units(x)\n",
      "File \u001b[1;32mc:\\Users\\kellye.GLOBAL\\AppData\\Local\\anaconda3\\lib\\site-packages\\matplotlib\\axis.py:1738\u001b[0m, in \u001b[0;36mAxis.convert_units\u001b[1;34m(self, x)\u001b[0m\n\u001b[0;32m   1736\u001b[0m     ret \u001b[39m=\u001b[39m \u001b[39mself\u001b[39m\u001b[39m.\u001b[39mconverter\u001b[39m.\u001b[39mconvert(x, \u001b[39mself\u001b[39m\u001b[39m.\u001b[39munits, \u001b[39mself\u001b[39m)\n\u001b[0;32m   1737\u001b[0m \u001b[39mexcept\u001b[39;00m \u001b[39mException\u001b[39;00m \u001b[39mas\u001b[39;00m e:\n\u001b[1;32m-> 1738\u001b[0m     \u001b[39mraise\u001b[39;00m munits\u001b[39m.\u001b[39mConversionError(\u001b[39m'\u001b[39m\u001b[39mFailed to convert value(s) to axis \u001b[39m\u001b[39m'\u001b[39m\n\u001b[0;32m   1739\u001b[0m                                  \u001b[39mf\u001b[39m\u001b[39m'\u001b[39m\u001b[39munits: \u001b[39m\u001b[39m{\u001b[39;00mx\u001b[39m!r}\u001b[39;00m\u001b[39m'\u001b[39m) \u001b[39mfrom\u001b[39;00m \u001b[39me\u001b[39;00m\n\u001b[0;32m   1740\u001b[0m \u001b[39mreturn\u001b[39;00m ret\n",
      "\u001b[1;31mConversionError\u001b[0m: Failed to convert value(s) to axis units: array(['MALE', 'FEMALE', 'FEMALE', nan, 'FEMALE', 'MALE', 'FEMALE',\n       'MALE', nan, nan, nan, nan, 'FEMALE', 'MALE', 'MALE', 'FEMALE',\n       'FEMALE', 'MALE', 'FEMALE', 'MALE', 'FEMALE', 'MALE', 'FEMALE',\n       'MALE', 'MALE', 'FEMALE', 'MALE', 'FEMALE', 'FEMALE', 'MALE',\n       'FEMALE', 'MALE', 'FEMALE', 'MALE', 'FEMALE', 'MALE', 'MALE',\n       'FEMALE', 'FEMALE', 'MALE', 'FEMALE', 'MALE', 'FEMALE', 'MALE',\n       'FEMALE', 'MALE', 'MALE', nan, 'FEMALE', 'MALE', 'FEMALE', 'MALE',\n       'FEMALE', 'MALE', 'FEMALE', 'MALE', 'FEMALE', 'MALE', 'FEMALE',\n       'MALE', 'FEMALE', 'MALE', 'FEMALE', 'MALE', 'FEMALE', 'MALE',\n       'FEMALE', 'MALE', 'FEMALE', 'MALE', 'FEMALE', 'MALE', 'FEMALE',\n       'MALE', 'FEMALE', 'MALE', 'FEMALE', 'MALE', 'FEMALE', 'MALE',\n       'FEMALE', 'MALE', 'FEMALE', 'MALE', 'FEMALE', 'MALE', 'MALE',\n       'FEMALE', 'MALE', 'FEMALE', 'FEMALE', 'MALE', 'FEMALE', 'MALE',\n       'FEMALE', 'MALE', 'FEMALE', 'MALE', 'FEMALE', 'MALE', 'FEMALE',\n       'MALE', 'FEMALE', 'MALE', 'FEMALE', 'MALE', 'FEMALE', 'MALE',\n       'FEMALE', 'MALE', 'FEMALE', 'MALE', 'FEMALE', 'MALE', 'FEMALE',\n       'MALE', 'FEMALE', 'MALE', 'FEMALE', 'MALE', 'FEMALE', 'MALE',\n       'FEMALE', 'MALE', 'FEMALE', 'MALE', 'FEMALE', 'MALE', 'FEMALE',\n       'MALE', 'FEMALE', 'MALE', 'FEMALE', 'MALE', 'FEMALE', 'MALE',\n       'FEMALE', 'MALE', 'FEMALE', 'MALE', 'FEMALE', 'MALE', 'FEMALE',\n       'MALE', 'FEMALE', 'MALE', 'MALE', 'FEMALE', 'FEMALE', 'MALE',\n       'FEMALE', 'MALE'], dtype=object)"
     ]
    },
    {
     "data": {
      "image/png": "[encoded data removed]",
      "text/plain": [
       "<Figure size 1200x300 with 1 Axes>"
      ]
     },
     "metadata": {},
     "output_type": "display_data"
    }
   ],
   "source": [
    "import matplotlib.pyplot as plt\n",
    "\n",
    "# Create an empty plot.\n",
    "fig, ax = plt.subplots(figsize=(12, 3))\n",
    "\n",
    "# Plot a histogram.\n",
    "ax.hist(Adelie, bins=100, density=True);"
   ]
  },
  {
   "cell_type": "markdown",
   "metadata": {},
   "source": [
    "For each of the variables in the penguins data set, suggest what probability distribution from the numpy random distributions list is the most appropriate to model the variable. "
   ]
  },
  {
   "cell_type": "markdown",
   "metadata": {},
   "source": [
    " ||species |island |bill_length_mm| bill_depth_mm |flipper_length_mm |body_mass_g |  sex|\n",
    " |---|:---|---|---|---|---|---|---|\n",
    "  |**variable type for data collection** |categorical - nominal|categorical - nominal|continuous - interval|continuous - interval|continuous - interval|continuous - interval|categorical - dichotomous|\n",
    "  |**probability distribution**|object|object|object|object|object|object|object|\n",
    "\n",
    " \n",
    " Table 2: Proposed variable types compared to original data set"
   ]
  },
  {
   "cell_type": "markdown",
   "metadata": {},
   "source": [
    "***\n",
    "## References\n",
    "\n",
    "[1] The Simple Math Problem We Still Can’t Solve | Quanta Magazine. Sept. 22, 2020. https://www.quantamagazine.org/why-mathematicians-still-cant-solve-the-collatz-conjecture-20200922/ (visited on 10/10/2023)."
   ]
  },
  {
   "cell_type": "markdown",
   "metadata": {},
   "source": [
    "[2] Method 2  https://copyprogramming.com/howto/collatz-conjecture-in-python (visited 11/10/2023)\n"
   ]
  },
  {
   "cell_type": "markdown",
   "metadata": {},
   "source": [
    "[3] W. Ren, S. Li, R. Xiao and W. Bi, \"Collatz Conjecture for 2^100000-1 Is True - Algorithms for Verifying Extremely Large Numbers,\" 2018 IEEE SmartWorld, Ubiquitous Intelligence & Computing, Advanced & Trusted Computing, Scalable Computing & Communications, Cloud & Big Data Computing, Internet of People and Smart City Innovation (SmartWorld/SCALCOM/UIC/ATC/CBDCom/IOP/SCI), Guangzhou, China, 2018, pp. 411-416, doi: 10.1109/SmartWorld.2018.00099. https://ieeexplore.ieee.org/document/8560077 (visited 11/10/2023)"
   ]
  },
  {
   "cell_type": "markdown",
   "metadata": {},
   "source": [
    "[4] https://statistics.laerd.com/statistical-guides/types-of-variable.php (visited 24/10/2023)"
   ]
  },
  {
   "cell_type": "markdown",
   "metadata": {},
   "source": [
    "[5] https://realpython.com/pandas-python-explore-dataset/#getting-to-know-your-data (visited 24/10/2023)"
   ]
  },
  {
   "cell_type": "markdown",
   "metadata": {},
   "source": [
    "[6] mwaskom/seaborn-data: Data repository for seaborn examples. \n",
    "url: https://github.com/mwaskom/seaborn-data/blob/master/penguins.csv\n",
    "(visited on 24/10/2023)."
   ]
  },
  {
   "cell_type": "markdown",
   "metadata": {},
   "source": [
    "[7]  Random Generator — NumPy v1.25\n",
    "Manual. June 17, 2023. url: https://numpy.org/doc/stable/reference/random/generator.html#distributions (visited on06/11/2023)\n"
   ]
  }
 ],
 "metadata": {
  "kernelspec": {
   "display_name": "base",
   "language": "python",
   "name": "python3"
  },
  "language_info": {
   "codemirror_mode": {
    "name": "ipython",
    "version": 3
   },
   "file_extension": ".py",
   "mimetype": "text/x-python",
   "name": "python",
   "nbconvert_exporter": "python",
   "pygments_lexer": "ipython3",
   "version": "3.10.9"
  },
  "orig_nbformat": 4
 },
 "nbformat": 4,
 "nbformat_minor": 2
}
