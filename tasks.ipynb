{
 "cells": [
  {
   "cell_type": "markdown",
   "metadata": {},
   "source": [
    "## Task 1 - The Collatz Conjecture\n",
    "***"
   ]
  },
  {
   "cell_type": "markdown",
   "metadata": {},
   "source": [
    "The Collatz conjecture is a famous unsolved problem in mathematics. The problem is to prove that if you start with any positive integer $x$ and repeatedly apply the function $f(x)$ below, you always get stuck in the repeating sequence 1, 4, 2, 1, 4, 2, . . .\n"
   ]
  },
  {
   "cell_type": "markdown",
   "metadata": {},
   "source": [
    "$$ \n",
    "\\\\ f(x) = \n",
    "\\begin{cases} \n",
    "x ÷ 2&\\text{if $x$ is even}\\\\\n",
    "3x + 1&\\text{if $x$ is odd}\\\\\n",
    "\\end{cases}\n",
    "$$\n",
    "\n",
    "          \n",
    "\n"
   ]
  },
  {
   "cell_type": "markdown",
   "metadata": {},
   "source": [
    "For example, starting with the value 10, which is an even number,\n",
    "we divide it by 2 to get 5. Then 5 is an odd number so, we multiply by 3 and add 1 to get 16. Then we repeatedly divide by 2 to get 8, 4, 2, 1. Once we are at 1, we go back to 4 and get stuck in the repeating sequence 4, 2, 1 as we suspected."
   ]
  },
  {
   "cell_type": "markdown",
   "metadata": {},
   "source": [
    "The task is to verify, using Python, that the conjecture is true for the first 10,000 positive integers.\n",
    "***"
   ]
  },
  {
   "cell_type": "markdown",
   "metadata": {},
   "source": [
    "## Introduction\n",
    "\n",
    "There are a number of different ways to solve this problem, though it is not possible to simply create a list using range or list opperand getting the following error : \"TypeError: unsupported operand type(s) for %: 'range' and 'int'\". "
   ]
  },
  {
   "cell_type": "markdown",
   "metadata": {},
   "source": [
    "### Method 1\n",
    "\n",
    "Ask user to input a positive integer, *<u>or</u>* randomly selecting a number between 1 and 10000. Then using 'while', 'if' and 'else' functions."
   ]
  },
  {
   "cell_type": "markdown",
   "metadata": {},
   "source": [
    "Method 1 - User inputting a positive integer "
   ]
  },
  {
   "cell_type": "code",
   "execution_count": 5,
   "metadata": {},
   "outputs": [
    {
     "name": "stdout",
     "output_type": "stream",
     "text": [
      "888 444 222 111 334 167 502 251 754 377 1132 566 283 850 425 1276 638 319 958 479 1438 719 2158 1079 3238 1619 4858 2429 7288 3644 1822 911 2734 1367 4102 2051 6154 3077 9232 4616 2308 1154 577 1732 866 433 1300 650 325 976 488 244 122 61 184 92 46 23 70 35 106 53 160 80 40 20 10 5 16 8 4 2 1 "
     ]
    }
   ],
   "source": [
    "pos_int = int(input(\"Enter a positive integer:\"))\n",
    "pos_ints=[pos_int] #pos_int will create a list\n",
    "\n",
    "while pos_int >1:                         # while inputted positive integer is > 1\n",
    "    if pos_int % 2 == 0:                  # if it is an even number\n",
    "        pos_int = pos_int/2               # it is divided by 2\n",
    "        pos_ints.append(int(pos_int)) \n",
    "\n",
    "    else:\n",
    "        pos_int % 2 !=0                  # or else if it is an odd number\n",
    "        pos_int = (pos_int * 3) + 1      # multiply by 3 and add 1\n",
    "        pos_ints.append(int(pos_int))\n",
    "\n",
    "for i in pos_ints:\n",
    "    print(i, end = ' ')                   # print the list of numbers generated without commas or brackets\n"
   ]
  },
  {
   "cell_type": "markdown",
   "metadata": {},
   "source": [
    "Method 1 - Randomly selecting a number between 1 and 10000."
   ]
  },
  {
   "cell_type": "code",
   "execution_count": 6,
   "metadata": {},
   "outputs": [
    {
     "name": "stdout",
     "output_type": "stream",
     "text": [
      "6450\n",
      "[6450, 3225, 9676, 4838, 2419, 7258, 3629, 10888, 5444, 2722, 1361, 4084, 2042, 1021, 3064, 1532, 766, 383, 1150, 575, 1726, 863, 2590, 1295, 3886, 1943, 5830, 2915, 8746, 4373, 13120, 6560, 3280, 1640, 820, 410, 205, 616, 308, 154, 77, 232, 116, 58, 29, 88, 44, 22, 11, 34, 17, 52, 26, 13, 40, 20, 10, 5, 16, 8, 4, 2, 1] "
     ]
    }
   ],
   "source": [
    "import random\n",
    "\n",
    "pos_int = random.randint(1, 10001)\n",
    "print(pos_int)\n",
    "\n",
    "pos_ints=[pos_int]\n",
    "\n",
    "#for i in pos_int:\n",
    "while pos_int >1: \n",
    "    if pos_int % 2 == 0:                  # if it is an even number\n",
    "        pos_int = pos_int/2               # it is divided by 2\n",
    "        pos_ints.append(int(pos_int))    \n",
    "    else:\n",
    "        pos_int % 2 !=0                  # or else if it is an odd number\n",
    "        pos_int = (pos_int * 3) + 1      # multiply by 3 and add 1\n",
    "        pos_ints.append(int(pos_int))\n",
    "\n",
    "\n",
    "print(pos_ints, end = ' ')                   # print the list of numbers generated without commas or brackets"
   ]
  },
  {
   "cell_type": "markdown",
   "metadata": {},
   "source": [
    "Method 2 - defining the number before running the code."
   ]
  },
  {
   "cell_type": "code",
   "execution_count": 11,
   "metadata": {},
   "outputs": [
    {
     "name": "stdout",
     "output_type": "stream",
     "text": [
      "[6450, 3225, 9676, 4838, 2419, 7258, 3629, 10888, 5444, 2722, 1361, 4084, 2042, 1021, 3064, 1532, 766, 383, 1150, 575, 1726, 863, 2590, 1295, 3886, 1943, 5830, 2915, 8746, 4373, 13120, 6560, 3280, 1640, 820, 410, 205, 616, 308, 154, 77, 232, 116, 58, 29, 88, 44, 22, 11, 34, 17, 52, 26, 13, 40, 20, 10, 5, 16, 8, 4, 2, 1]\n"
     ]
    }
   ],
   "source": [
    "def collatz(n):\n",
    "    l = []\n",
    "    l.append(n)\n",
    "    while n != 1:\n",
    "        if n % 2 == 0:\n",
    "            n = n // 2\n",
    "            l.append(n)\n",
    "        else:\n",
    "            n = (3*n) + 1\n",
    "            l.append(n)\n",
    "    return l\n",
    "print (collatz(6450))"
   ]
  },
  {
   "cell_type": "markdown",
   "metadata": {},
   "source": [
    "$\\color{orange}{\\text{Example using method 1:}}$ \n",
    "\n",
    "Number *<u>randomly</u>* selected : 6450\n",
    "\n",
    "Output\n",
    "\n",
    "[6450, 3225, 9676, 4838, 2419, 7258, 3629, 10888, 5444, 2722, 1361, 4084, 2042, 1021, 3064, 1532, 766, 383, 1150, 575, 1726, 863, 2590, 1295, 3886, 1943, 5830, 2915, 8746, 4373, 13120, 6560, 3280, 1640, 820, 410, 205, 616, 308, 154, 77, 232, 116, 58, 29, 88, 44, 22, 11, 34, 17, 52, 26, 13, 40, 20, 10, 5, 16, 8, 4, 2, 1]"
   ]
  },
  {
   "cell_type": "markdown",
   "metadata": {},
   "source": [
    "$\\color{orange}{\\text{Example using method 2:}}$"
   ]
  },
  {
   "cell_type": "markdown",
   "metadata": {},
   "source": [
    "Number selected : 6450\n",
    "\n",
    "Output\n",
    "\n",
    "[6450, 3225, 9676, 4838, 2419, 7258, 3629, 10888, 5444, 2722, 1361, 4084, 2042, 1021, 3064, 1532, 766, 383, 1150, 575, 1726, 863, 2590, 1295, 3886, 1943, 5830, 2915, 8746, 4373, 13120, 6560, 3280, 1640, 820, 410, 205, 616, 308, 154, 77, 232, 116, 58, 29, 88, 44, 22, 11, 34, 17, 52, 26, 13, 40, 20, 10, 5, 16, 8, 4, 2, 1]\n"
   ]
  },
  {
   "cell_type": "markdown",
   "metadata": {},
   "source": [
    "## Conclusion\n",
    "\n",
    "Although all iterartions were not tested in this notebook the conjecture is most probably true for the first 10,000 positive integers. Using the above methods no example of counter examples were observed and this problem has been widely studied for over 80 years and tested and confirmed as true up to 2 100000 - 1 [3]."
   ]
  },
  {
   "cell_type": "markdown",
   "metadata": {},
   "source": [
    "## References\n",
    "\n",
    "[1] The Simple Math Problem We Still Can’t Solve | Quanta Magazine. Sept. 22, 2020.\n",
    "\n",
    "https://www.quantamagazine.org/why-mathematicians-still-cant-solve-the-collatz-conjecture-20200922/ (visited on 10/10/2023).\n",
    "***"
   ]
  },
  {
   "cell_type": "markdown",
   "metadata": {},
   "source": [
    "[2] Method 2  \n",
    "\n",
    "https://copyprogramming.com/howto/collatz-conjecture-in-python\n",
    "\n",
    "(visited 11/10/2023)\n",
    "***"
   ]
  },
  {
   "cell_type": "markdown",
   "metadata": {},
   "source": [
    "[3] W. Ren, S. Li, R. Xiao and W. Bi, \"Collatz Conjecture for 2^100000-1 Is True - Algorithms for Verifying Extremely Large Numbers,\" 2018 IEEE SmartWorld, Ubiquitous Intelligence & Computing, Advanced & Trusted Computing, Scalable Computing & Communications, Cloud & Big Data Computing, Internet of People and Smart City Innovation (SmartWorld/SCALCOM/UIC/ATC/CBDCom/IOP/SCI), Guangzhou, China, 2018, pp. 411-416, doi: 10.1109/SmartWorld.2018.00099.\n",
    "\n",
    "https://ieeexplore.ieee.org/document/8560077 (visited 11/10/2023)\n",
    "***"
   ]
  }
 ],
 "metadata": {
  "kernelspec": {
   "display_name": "base",
   "language": "python",
   "name": "python3"
  },
  "language_info": {
   "codemirror_mode": {
    "name": "ipython",
    "version": 3
   },
   "file_extension": ".py",
   "mimetype": "text/x-python",
   "name": "python",
   "nbconvert_exporter": "python",
   "pygments_lexer": "ipython3",
   "version": "3.10.9"
  },
  "orig_nbformat": 4
 },
 "nbformat": 4,
 "nbformat_minor": 2
}
